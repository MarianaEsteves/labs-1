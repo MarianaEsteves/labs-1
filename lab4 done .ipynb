{
 "cells": [
  {
   "cell_type": "markdown",
   "metadata": {},
   "source": [
    "# Lab 4\n",
    "\n",
    "**1)**  Create a list of volume of sales considering the following assumptions:\n",
    "* inicial valueSales =1000\n",
    "* anual growth rate = 10%\n",
    "* number of years = 6\n",
    "\n",
    "\n"
   ]
  },
  {
   "cell_type": "code",
   "execution_count": 6,
   "metadata": {},
   "outputs": [
    {
     "name": "stdout",
     "output_type": "stream",
     "text": [
      "[1000.0, 1100.0, 1210.0000000000002, 1331.0000000000005, 1464.1000000000004, 1610.5100000000004]\n"
     ]
    }
   ],
   "source": [
    "#aluesales=1000\n",
    "#rowth=0.1\n",
    "years=6\n",
    "sales=[]\n",
    "for i in range(years):\n",
    "    sales.append(1000*(1.1**i))\n",
    " \n",
    "print(sales)\n",
    "    "
   ]
  },
  {
   "cell_type": "markdown",
   "metadata": {},
   "source": [
    "**2)** Based on the previews list, create a list with costs knowing the profit margin:\n",
    "* margin =70%"
   ]
  },
  {
   "cell_type": "code",
   "execution_count": 7,
   "metadata": {},
   "outputs": [
    {
     "name": "stdout",
     "output_type": "stream",
     "text": [
      "[300.00000000000006, 330.00000000000006, 363.0000000000001, 399.3000000000002, 439.2300000000002, 483.1530000000002]\n"
     ]
    }
   ],
   "source": [
    "annualcost=[]\n",
    "yearnow=0\n",
    "margin=0.7\n",
    "for i in range(years):#because i was iterating the list need to be a integer \n",
    "    annualcost.append(sales[i]*(1-margin))\n",
    "print(annualcost)\n",
    "    \n",
    "\n"
   ]
  },
  {
   "cell_type": "code",
   "execution_count": 3,
   "metadata": {},
   "outputs": [
    {
     "name": "stdout",
     "output_type": "stream",
     "text": [
      "hello\n"
     ]
    }
   ],
   "source": [
    "print (\"hello\" )"
   ]
  },
  {
   "cell_type": "markdown",
   "metadata": {},
   "source": [
    "**3)** Create a list with the profit based on the last 2 exercises (profit = sales - cost)"
   ]
  },
  {
   "cell_type": "code",
   "execution_count": 9,
   "metadata": {},
   "outputs": [
    {
     "name": "stdout",
     "output_type": "stream",
     "text": [
      "[700.0]\n",
      "[700.0, 770.0]\n",
      "[700.0, 770.0, 847.0000000000001]\n",
      "[700.0, 770.0, 847.0000000000001, 931.7000000000003]\n",
      "[700.0, 770.0, 847.0000000000001, 931.7000000000003, 1024.8700000000001]\n",
      "[700.0, 770.0, 847.0000000000001, 931.7000000000003, 1024.8700000000001, 1127.3570000000002]\n"
     ]
    }
   ],
   "source": [
    "profit=[]\n",
    "for i in range(years):\n",
    "    profit.append(sales[i]-annualcost[i])\n",
    "    print(profit)"
   ]
  },
  {
   "cell_type": "markdown",
   "metadata": {},
   "source": [
    "**4)** Calculete a newProfit suposing 500 of fixed costs"
   ]
  },
  {
   "cell_type": "code",
   "execution_count": 10,
   "metadata": {},
   "outputs": [
    {
     "name": "stdout",
     "output_type": "stream",
     "text": [
      "[200.0]\n",
      "[200.0, 270.0]\n",
      "[200.0, 270.0, 347.0000000000001]\n",
      "[200.0, 270.0, 347.0000000000001, 431.7000000000003]\n",
      "[200.0, 270.0, 347.0000000000001, 431.7000000000003, 524.8700000000001]\n",
      "[200.0, 270.0, 347.0000000000001, 431.7000000000003, 524.8700000000001, 627.3570000000002]\n"
     ]
    }
   ],
   "source": [
    "newprofit=[]\n",
    "for i in profit:\n",
    "    newprofit.append(i-500)\n",
    "    print(newprofit)"
   ]
  },
  {
   "cell_type": "markdown",
   "metadata": {},
   "source": [
    "**5)** Create a <b>newSales</b> list with random generated values  between 200 and 2000. Corresponding to volume of sales during a certainn numberOfYears.\n",
    "\n",
    "some ints:\n",
    "* Import module, writing <b>import random</b> \n",
    "* use the method <b>random.randint(a, b)</b>. This method is used to generate values between a and b  ( Return a random integer N such that a <= N <= b.):\n",
    "\n",
    "\n",
    "   \n",
    "\n"
   ]
  },
  {
   "cell_type": "code",
   "execution_count": 71,
   "metadata": {},
   "outputs": [
    {
     "name": "stdout",
     "output_type": "stream",
     "text": [
      "[888, 1106, 1720, 957, 712, 1274]\n"
     ]
    }
   ],
   "source": [
    "import random\n",
    "a=200\n",
    "b=2000\n",
    "newsales=[]\n",
    "for i in range(years):\n",
    "    newsales.append(random.randint(a,b))\n",
    "print(newsales)"
   ]
  },
  {
   "cell_type": "markdown",
   "metadata": {},
   "source": [
    "**6)** Create a new list with profits (newProfit). With margin 70% with fixed costs stated previously."
   ]
  },
  {
   "cell_type": "code",
   "execution_count": 73,
   "metadata": {},
   "outputs": [
    {
     "name": "stdout",
     "output_type": "stream",
     "text": [
      "[-344.29999999999995, 35.500000000000114, -285.19999999999993, -306.79999999999995, -438.2, -122.29999999999995, -431.9, -309.79999999999995, -296.59999999999997, -4.39999999999992, -415.7, -177.49999999999994, -261.5, -62.59999999999991, -391.4, -425.6, -330.79999999999995, -130.99999999999994]\n"
     ]
    }
   ],
   "source": [
    "newprofit2=[]\n",
    "for i in number:\n",
    "    newprofit2.append(i*(1-0.7)-500)\n",
    "print(newprofit2)"
   ]
  },
  {
   "cell_type": "markdown",
   "metadata": {},
   "source": [
    "**7)** What is the percentage of years having profits in the total?"
   ]
  },
  {
   "cell_type": "code",
   "execution_count": 68,
   "metadata": {},
   "outputs": [
    {
     "name": "stdout",
     "output_type": "stream",
     "text": [
      "16.666666666666664\n"
     ]
    }
   ],
   "source": [
    "revenue=[]\n",
    "for i in newprofit2:\n",
    "    if i > 0 :\n",
    "        revenue.append(i)\n",
    "#print(revenue)\n",
    "percent=(len(revenue)/6)*100\n",
    "print(percent)"
   ]
  },
  {
   "cell_type": "markdown",
   "metadata": {},
   "source": [
    "**8)** Plot the sales and the newSales (generated randomly) throughout the years."
   ]
  },
  {
   "cell_type": "code",
   "execution_count": 75,
   "metadata": {},
   "outputs": [
    {
     "data": {
      "image/png": "[encoded data removed]",
      "text/plain": [
       "<Figure size 432x288 with 1 Axes>"
      ]
     },
     "metadata": {
      "needs_background": "light"
     },
     "output_type": "display_data"
    }
   ],
   "source": [
    "import matplotlib.pyplot as plt\n",
    "plt.plot(sales)\n",
    "plt.plot(newsales)\n",
    "plt.ylabel('sales')\n",
    "plt.xlabel('years')\n",
    "plt.show()"
   ]
  },
  {
   "cell_type": "code",
   "execution_count": 42,
   "metadata": {},
   "outputs": [
    {
     "name": "stdout",
     "output_type": "stream",
     "text": [
      "8\n"
     ]
    }
   ],
   "source": []
  },
  {
   "cell_type": "code",
   "execution_count": null,
   "metadata": {},
   "outputs": [],
   "source": []
  }
 ],
 "metadata": {
  "kernelspec": {
   "display_name": "Python 3",
   "language": "python",
   "name": "python3"
  }
 },
 "nbformat": 4,
 "nbformat_minor": 2
}
