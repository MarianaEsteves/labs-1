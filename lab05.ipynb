{
 "cells": [
  {
   "cell_type": "markdown",
   "metadata": {},
   "source": [
    "# Lab 5\n",
    "\n",
    "How to verify if a number is a possible credit card number?\n",
    "In order to verify the check digit is correct, verify the following steps:\n",
    "\n",
    "* Supose the following number=\"5105105105105100\".\n",
    "* Convert the number into a list\n",
    "* Reverse the List\n",
    "* Starting from the left digit, double every second digit.\n",
    "* If double of a digit is more than 9, add the digits.\n",
    "* Sum all the numbers except the first one multiply by 9 and remove the unit\n",
    "\n"
   ]
  },
  {
   "cell_type": "code",
   "execution_count": 87,
   "metadata": {},
   "outputs": [],
   "source": [
    "#Start by converting the number into a list\n",
    "number=\"5105105105105100\""
   ]
  },
  {
   "cell_type": "code",
   "execution_count": 88,
   "metadata": {},
   "outputs": [
    {
     "name": "stdout",
     "output_type": "stream",
     "text": [
      "['0', '0', '1', '5', '0', '1', '5', '0', '1', '5', '0', '1', '5', '0', '1', '5']\n"
     ]
    }
   ],
   "source": [
    "#convert a number into a list\n",
    "lenght=len(number)\n",
    "n=0 \n",
    "number1=5105105105105100\n",
    "creditcardnumlistaux=[]\n",
    "creditcardnumlist=[]\n",
    "while n< len(number):\n",
    "    creditcardnumlistaux.append(number[n])\n",
    "    n+=1\n",
    "n=0\n",
    "while n< len(number):\n",
    "    creditcardnumlist.append(creditcardnumlistaux[len(number)-n-1])\n",
    "    n +=1\n",
    "print(creditcardnumlist)"
   ]
  },
  {
   "cell_type": "code",
   "execution_count": 89,
   "metadata": {},
   "outputs": [
    {
     "name": "stdout",
     "output_type": "stream",
     "text": [
      "[0, 0, 1, 10, 0, 2, 5, 0, 1, 10, 0, 2, 5, 0, 1, 10]\n"
     ]
    }
   ],
   "source": [
    "#Convert stings into integi\n",
    "#digits=[int(x) for x in str(number)]\n",
    "#print(digits)\n",
    "#digits.reverse()\n",
    "#print(digits)\n",
    "\n",
    "#int(number)\n",
    "newlist=[]\n",
    "for i in range(0,len(digits)):\n",
    "    if i%2 ==0: \n",
    "        newlist.append(digits[i])\n",
    "    else:\n",
    "            newlist.append(2*digits[i])\n",
    "print(newlist)"
   ]
  },
  {
   "cell_type": "code",
   "execution_count": 100,
   "metadata": {},
   "outputs": [
    {
     "name": "stdout",
     "output_type": "stream",
     "text": [
      "0\n",
      "0\n",
      "2\n",
      "10\n",
      "0\n",
      "2\n",
      "10\n",
      "0\n",
      "2\n",
      "10\n",
      "0\n",
      "2\n",
      "10\n",
      "0\n",
      "2\n",
      "10\n"
     ]
    }
   ],
   "source": [
    "# Starting from the left digit, double every second digit.\n",
    "for i in range(0,len(digits)): \n",
    "    a= digits[i]*2\n",
    "   \n",
    "    print(a)"
   ]
  },
  {
   "cell_type": "code",
   "execution_count": 101,
   "metadata": {},
   "outputs": [
    {
     "name": "stdout",
     "output_type": "stream",
     "text": [
      "10\n",
      "10\n"
     ]
    }
   ],
   "source": [
    "# If double of a digit is more then 9, add the digits.\n",
    "#verify if a number is odd or even , if the remain is 0 or not divided by %\n",
    "print(a)\n",
    "n=0\n",
    "for n in range(0,len(digits)):\n",
    "    if digits[n] > 9:\n",
    "        digits[n] = 1\n",
    "        \n",
    "print(a)"
   ]
  },
  {
   "cell_type": "code",
   "execution_count": 102,
   "metadata": {},
   "outputs": [
    {
     "name": "stdout",
     "output_type": "stream",
     "text": [
      "0\n",
      "1\n",
      "6\n",
      "6\n",
      "7\n",
      "12\n",
      "12\n",
      "13\n",
      "18\n",
      "18\n",
      "19\n",
      "24\n",
      "24\n",
      "25\n",
      "30\n"
     ]
    }
   ],
   "source": [
    "# Sum all the numbers except the first one\n",
    "n=1 \n",
    "sumofdigits=0\n",
    "for n in range(1, len(digits)):\n",
    "    sumofdigits= sumofdigits+digits[n]\n",
    "\n",
    "    print(sumofdigits)"
   ]
  },
  {
   "cell_type": "code",
   "execution_count": 103,
   "metadata": {},
   "outputs": [
    {
     "name": "stdout",
     "output_type": "stream",
     "text": [
      "270\n"
     ]
    }
   ],
   "source": [
    "# multiply by 9 and remove the unit\n",
    "multofdigits=sumofdigits*9\n",
    "print(multofdigits)"
   ]
  },
  {
   "cell_type": "markdown",
   "metadata": {},
   "source": [
    "If the last number of variable numer is the same you reached, the check digit of the credit card is correct"
   ]
  }
 ],
 "metadata": {
  "kernelspec": {
   "display_name": "Python 3",
   "language": "python",
   "name": "python3"
  },
  "language_info": {
   "codemirror_mode": {
    "name": "ipython",
    "version": 3
   },
   "file_extension": ".py",
   "mimetype": "text/x-python",
   "name": "python",
   "nbconvert_exporter": "python",
   "pygments_lexer": "ipython3",
   "version": "3.7.3"
  }
 },
 "nbformat": 4,
 "nbformat_minor": 2
}
