{
 "cells": [
  {
   "cell_type": "code",
   "execution_count": 3,
   "metadata": {},
   "outputs": [
    {
     "data": {
      "text/plain": [
       "True"
      ]
     },
     "execution_count": 3,
     "metadata": {},
     "output_type": "execute_result"
    }
   ],
   "source": [
    "# Verify if a value is integer\n",
    "n=3\n",
    "int(n)==n\n"
   ]
  },
  {
   "cell_type": "code",
   "execution_count": 2,
   "metadata": {},
   "outputs": [
    {
     "data": {
      "text/plain": [
       "False"
      ]
     },
     "execution_count": 2,
     "metadata": {},
     "output_type": "execute_result"
    }
   ],
   "source": [
    "#Verify if a value is even\n",
    "n = 7\n",
    "n%2 == 0"
   ]
  },
  {
   "cell_type": "code",
   "execution_count": 4,
   "metadata": {},
   "outputs": [
    {
     "data": {
      "text/plain": [
       "True"
      ]
     },
     "execution_count": 4,
     "metadata": {},
     "output_type": "execute_result"
    }
   ],
   "source": [
    "#Insert two numbers. Is the first is bigger than the second?\n",
    "5>3\n"
   ]
  },
  {
   "cell_type": "code",
   "execution_count": 7,
   "metadata": {},
   "outputs": [
    {
     "data": {
      "text/plain": [
       "True"
      ]
     },
     "execution_count": 7,
     "metadata": {},
     "output_type": "execute_result"
    }
   ],
   "source": [
    "#Verify if one value is multiple of another\n",
    "n=5\n",
    "m=25\n",
    "n%m == 0 or m%n == 0"
   ]
  },
  {
   "cell_type": "code",
   "execution_count": 9,
   "metadata": {},
   "outputs": [
    {
     "name": "stdout",
     "output_type": "stream",
     "text": [
      "18.0\n"
     ]
    }
   ],
   "source": [
    "# Calculate the interest earn by an investor that invested a capital of 200 during 3 years with an interest rate of 3%. (I= P*R*T)\n",
    "capital = 200\n",
    "time = 3\n",
    "rate = 0.03\n",
    "\n",
    "interest = capital* rate * time\n",
    "print(interest)"
   ]
  },
  {
   "cell_type": "code",
   "execution_count": 10,
   "metadata": {},
   "outputs": [
    {
     "name": "stdout",
     "output_type": "stream",
     "text": [
      "218.5454\n"
     ]
    }
   ],
   "source": [
    "#Capital that an investor obtained after investing a capital of 200 during 3 years with an interest rate of 3%. (Compound interest)\n",
    "capital = 200\n",
    "time = 3\n",
    "rate = 0.03\n",
    "accruedcapital= capital*(1+rate)**time\n",
    "print(accruedcapital)"
   ]
  },
  {
   "cell_type": "code",
   "execution_count": 1,
   "metadata": {},
   "outputs": [
    {
     "name": "stdout",
     "output_type": "stream",
     "text": [
      "20.761245674740486\n"
     ]
    }
   ],
   "source": [
    "#Calculate your BMI (Body Mass Index)\n",
    "weight = 60\n",
    "height = 1.7\n",
    "BMI = weight/(height)**2\n",
    "print(BMI)"
   ]
  },
  {
   "cell_type": "code",
   "execution_count": 21,
   "metadata": {},
   "outputs": [
    {
     "name": "stdout",
     "output_type": "stream",
     "text": [
      "1.618033988749895\n"
     ]
    }
   ],
   "source": [
    "#Calcule the Golden ration\n",
    "goldenratio= (1+(5)**(1/2))/2\n",
    "print(goldenratio)"
   ]
  },
  {
   "cell_type": "code",
   "execution_count": 30,
   "metadata": {},
   "outputs": [
    {
     "name": "stdout",
     "output_type": "stream",
     "text": [
      "3139.440301519393\n"
     ]
    }
   ],
   "source": [
    " #Calculete the NPV (Net present value) of an investment, considering an initial investment of 10000, the following Cashflows 2000,3000, 4000, 4000 and 5000 and a discount rate of 10%.\n",
    "I = 10000\n",
    "k = 0.1\n",
    "FV1 = 2000\n",
    "FV2 = 3000\n",
    "FV3 = 4000\n",
    "FV4 = 4000\n",
    "FV5 = 5000\n",
    " \n",
    "NPV = (FV1/(1+k) + FV2/(1+k)**2 + FV3/(1+k)**3 + FV4/(1+k)**4 + FV5/(1+k)**5)-I\n",
    "print (NPV)\n",
    "    "
   ]
  },
  {
   "cell_type": "code",
   "execution_count": 31,
   "metadata": {},
   "outputs": [
    {
     "data": {
      "text/plain": [
       "2019"
      ]
     },
     "execution_count": 31,
     "metadata": {},
     "output_type": "execute_result"
    }
   ],
   "source": [
    "# Ask the user to insert name and age. Calculate the the birth. Print a result saying the 'this person was born in'\n",
    "from datetime import date   \n",
    "today = date.today()  \n",
    "today.year"
   ]
  },
  {
   "cell_type": "code",
   "execution_count": null,
   "metadata": {},
   "outputs": [],
   "source": []
  }
 ],
 "metadata": {
  "kernelspec": {
   "display_name": "Python 3",
   "language": "python",
   "name": "python3"
  },
  "language_info": {
   "codemirror_mode": {
    "name": "ipython",
    "version": 3
   },
   "file_extension": ".py",
   "mimetype": "text/x-python",
   "name": "python",
   "nbconvert_exporter": "python",
   "pygments_lexer": "ipython3",
   "version": "3.7.3"
  }
 },
 "nbformat": 4,
 "nbformat_minor": 2
}
